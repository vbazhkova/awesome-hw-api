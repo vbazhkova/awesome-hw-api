{
 "cells": [
  {
   "cell_type": "code",
   "execution_count": 45,
   "metadata": {},
   "outputs": [],
   "source": [
    "import requests"
   ]
  },
  {
   "cell_type": "code",
   "execution_count": 46,
   "metadata": {},
   "outputs": [
    {
     "data": {
      "text/plain": [
       "{'your_pet': [{'id': 2, 'name': \"b'Snowie'\", 'type': \"b'cat'\"}]}"
      ]
     },
     "execution_count": 46,
     "metadata": {},
     "output_type": "execute_result"
    }
   ],
   "source": [
    "requests.get('https://d5d1g0kdl9uq2smvd01d.apigw.yandexcloud.net/pets?id=2').json()"
   ]
  },
  {
   "cell_type": "code",
   "execution_count": 50,
   "metadata": {},
   "outputs": [
    {
     "data": {
      "text/plain": [
       "{'pets': [{'id': 2, 'name': \"b'Snowie'\", 'type': \"b'cat'\"},\n",
       "  {'id': 82762, 'name': \"b'Barsik'\", 'type': \"b'cat'\"}]}"
      ]
     },
     "execution_count": 50,
     "metadata": {},
     "output_type": "execute_result"
    }
   ],
   "source": [
    "requests.get('https://d5d1g0kdl9uq2smvd01d.apigw.yandexcloud.net/pets?type=cat').json()"
   ]
  },
  {
   "cell_type": "code",
   "execution_count": 63,
   "metadata": {},
   "outputs": [
    {
     "data": {
      "text/plain": [
       "{'message': 'Данные успешно сохранены'}"
      ]
     },
     "execution_count": 63,
     "metadata": {},
     "output_type": "execute_result"
    }
   ],
   "source": [
    "body = {\n",
    "    'type' : 'parrot',\n",
    "    'name' : 'Ara'\n",
    "}\n",
    "requests.post('https://d5d1g0kdl9uq2smvd01d.apigw.yandexcloud.net/pets', json=body).json()"
   ]
  },
  {
   "cell_type": "code",
   "execution_count": 19,
   "metadata": {},
   "outputs": [
    {
     "data": {
      "text/plain": [
       "{'message': 'Питомец удален'}"
      ]
     },
     "execution_count": 19,
     "metadata": {},
     "output_type": "execute_result"
    }
   ],
   "source": [
    "requests.delete('https://d5d1g0kdl9uq2smvd01d.apigw.yandexcloud.net/pets?id=624066').json()"
   ]
  },
  {
   "cell_type": "code",
   "execution_count": 53,
   "metadata": {},
   "outputs": [
    {
     "data": {
      "text/plain": [
       "{'message': 'Имя изменено'}"
      ]
     },
     "execution_count": 53,
     "metadata": {},
     "output_type": "execute_result"
    }
   ],
   "source": [
    "body = {\n",
    "    'new_name' : 'Dove'\n",
    "}\n",
    "requests.patch('https://d5d1g0kdl9uq2smvd01d.apigw.yandexcloud.net/pets?id=4', json=body).json()"
   ]
  },
  {
   "cell_type": "code",
   "execution_count": 54,
   "metadata": {},
   "outputs": [
    {
     "data": {
      "text/plain": [
       "<Response [200]>"
      ]
     },
     "execution_count": 54,
     "metadata": {},
     "output_type": "execute_result"
    }
   ],
   "source": [
    "requests.get('https://d5d1g0kdl9uq2smvd01d.apigw.yandexcloud.net/caterror/404')"
   ]
  },
  {
   "cell_type": "code",
   "execution_count": 62,
   "metadata": {},
   "outputs": [
    {
     "data": {
      "text/plain": [
       "<Response [200]>"
      ]
     },
     "execution_count": 62,
     "metadata": {},
     "output_type": "execute_result"
    }
   ],
   "source": [
    "#cat.jpeg, dog.jpeg, parrot.jpeg, frog.jpeg\n",
    "requests.get('https://d5d1g0kdl9uq2smvd01d.apigw.yandexcloud.net/image/frog.jpeg')"
   ]
  },
  {
   "cell_type": "code",
   "execution_count": 55,
   "metadata": {},
   "outputs": [
    {
     "data": {
      "text/plain": [
       "<Response [200]>"
      ]
     },
     "execution_count": 55,
     "metadata": {},
     "output_type": "execute_result"
    }
   ],
   "source": [
    "header = {\n",
    "    'x-api-key' : 'live_oRA0dWNgZH2GeSW167jhhX8HEoFR33scwPWXMpi8LUG8uZPDFJRVh53olWzjAbiu'\n",
    "}\n",
    "requests.get('https://d5d1g0kdl9uq2smvd01d.apigw.yandexcloud.net/random/cat', headers=header)"
   ]
  },
  {
   "cell_type": "code",
   "execution_count": 57,
   "metadata": {},
   "outputs": [
    {
     "data": {
      "text/plain": [
       "{'pets': [{'id': 1, 'name': \"b'Pashtet'\", 'type': \"b'dog'\"},\n",
       "  {'id': 2, 'name': \"b'Snowie'\", 'type': \"b'cat'\"},\n",
       "  {'id': 3, 'name': \"b'Hru'\", 'type': \"b'minipig'\"},\n",
       "  {'id': 4, 'name': \"b'Dove'\", 'type': \"b'dog'\"},\n",
       "  {'id': 82762, 'name': \"b'Barsik'\", 'type': \"b'cat'\"},\n",
       "  {'id': 624066, 'name': \"b'Mars'\", 'type': \"b'dog'\"},\n",
       "  {'id': 702051, 'name': \"b'Boss'\", 'type': \"b'dog'\"}]}"
      ]
     },
     "execution_count": 57,
     "metadata": {},
     "output_type": "execute_result"
    }
   ],
   "source": [
    "requests.get('https://d5d1g0kdl9uq2smvd01d.apigw.yandexcloud.net/pets').json()"
   ]
  }
 ],
 "metadata": {
  "kernelspec": {
   "display_name": "Python 3",
   "language": "python",
   "name": "python3"
  },
  "language_info": {
   "codemirror_mode": {
    "name": "ipython",
    "version": 3
   },
   "file_extension": ".py",
   "mimetype": "text/x-python",
   "name": "python",
   "nbconvert_exporter": "python",
   "pygments_lexer": "ipython3",
   "version": "3.10.5"
  }
 },
 "nbformat": 4,
 "nbformat_minor": 2
}
